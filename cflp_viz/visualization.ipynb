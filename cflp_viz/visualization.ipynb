{
 "cells": [
  {
   "cell_type": "markdown",
   "id": "f9a71501-099b-4fea-80c6-3f12558920e1",
   "metadata": {},
   "source": [
    "# Solution visualization\n",
    "\n",
    "The visualization allows you to display your solutions in the form of __customer__ X __facility__ heatmaps.\n",
    "\n",
    "Individual cells represent assignment of customer to a given facility and the color of the cell code the cost of this assignment. Light colors denote \"cheap\" assignments, darker colors denote \"expensive\" assignments. By hovering over a cell, you may see its coordinates and its exact assignemt cost (x=customer, y=facility, z=assignment cost).\n",
    "\n",
    "Cells with red highlight are those that were actually used in the provided solution.\n",
    "\n",
    "Customer demands, facility opening costs and facility utilizations are further provided in the column/row annotations. Facilities that have not been opened have shaded annotations."
   ]
  },
  {
   "cell_type": "code",
   "execution_count": 1,
   "id": "58ed4ce1-dbde-4019-bbaa-c679176f7c54",
   "metadata": {
    "ExecuteTime": {
     "end_time": "2025-09-23T08:21:14.072085905Z",
     "start_time": "2025-09-23T08:21:12.378186928Z"
    }
   },
   "outputs": [
    {
     "data": {
      "application/vnd.plotly.v1+json": {
       "config": {
        "plotlyServerURL": "https://plot.ly"
       },
       "data": [
        {
         "marker": {
          "color": "rgba(0,0,0,0)",
          "line": {
           "color": "red",
           "width": 5
          },
          "size": 50,
          "symbol": "square"
         },
         "mode": "markers",
         "showlegend": false,
         "type": "scatter",
         "x": [
          0,
          1,
          2,
          3,
          4,
          5,
          6,
          7,
          8,
          9,
          10,
          11,
          12,
          13,
          14,
          15,
          16,
          17,
          18,
          19,
          20,
          21,
          22,
          23,
          24,
          25,
          26,
          27,
          28,
          29,
          30,
          31,
          32,
          33,
          34,
          35,
          36,
          37,
          38,
          39,
          40,
          41,
          42,
          43,
          44,
          45,
          46,
          47,
          48,
          49
         ],
         "y": [
          8,
          2,
          1,
          6,
          3,
          8,
          2,
          4,
          4,
          1,
          4,
          0,
          3,
          2,
          8,
          3,
          4,
          0,
          6,
          4,
          3,
          4,
          6,
          4,
          2,
          6,
          1,
          6,
          0,
          1,
          2,
          6,
          0,
          3,
          2,
          4,
          4,
          3,
          0,
          4,
          3,
          8,
          1,
          6,
          4,
          0,
          2,
          0,
          4,
          0
         ]
        },
        {
         "colorscale": [
          [
           0,
           "rgb(255,255,255)"
          ],
          [
           0.125,
           "rgb(240,240,240)"
          ],
          [
           0.25,
           "rgb(217,217,217)"
          ],
          [
           0.375,
           "rgb(189,189,189)"
          ],
          [
           0.5,
           "rgb(150,150,150)"
          ],
          [
           0.625,
           "rgb(115,115,115)"
          ],
          [
           0.75,
           "rgb(82,82,82)"
          ],
          [
           0.875,
           "rgb(37,37,37)"
          ],
          [
           1,
           "rgb(0,0,0)"
          ]
         ],
         "showscale": false,
         "type": "heatmap",
         "z": [
          [
           260,
           239,
           418,
           557,
           346,
           161,
           288,
           568,
           379,
           392,
           672,
           268,
           122,
           295,
           344,
           143,
           393,
           29,
           656,
           654,
           235,
           329,
           640,
           517,
           329,
           524,
           318,
           516,
           79,
           414,
           458,
           758,
           28,
           167,
           504,
           502,
           475,
           226,
           94,
           422,
           303,
           139,
           362,
           519,
           494,
           88,
           468,
           72,
           370,
           68
          ],
          [
           580,
           484,
           34,
           386,
           180,
           522,
           338,
           636,
           523,
           28,
           646,
           652,
           319,
           423,
           712,
           242,
           486,
           401,
           551,
           812,
           155,
           585,
           482,
           604,
           200,
           284,
           80,
           195,
           426,
           107,
           387,
           516,
           374,
           234,
           495,
           584,
           612,
           239,
           392,
           507,
           145,
           459,
           104,
           286,
           701,
           463,
           467,
           349,
           574,
           344
          ],
          [
           335,
           212,
           369,
           258,
           455,
           348,
           33,
           302,
           181,
           329,
           363,
           504,
           376,
           99,
           502,
           262,
           140,
           310,
           335,
           466,
           249,
           285,
           328,
           263,
           149,
           274,
           345,
           337,
           288,
           284,
           140,
           467,
           338,
           215,
           192,
           243,
           267,
           403,
           244,
           162,
           202,
           270,
           411,
           267,
           364,
           400,
           156,
           356,
           248,
           348
          ],
          [
           415,
           347,
           240,
           474,
           179,
           336,
           281,
           603,
           442,
           219,
           666,
           451,
           117,
           338,
           525,
           59,
           428,
           205,
           611,
           738,
           84,
           451,
           569,
           559,
           229,
           409,
           135,
           367,
           241,
           261,
           414,
           653,
           170,
           94,
           496,
           540,
           541,
           97,
           218,
           456,
           174,
           286,
           180,
           406,
           598,
           258,
           461,
           142,
           466,
           138
          ],
          [
           363,
           276,
           603,
           349,
           694,
           441,
           258,
           73,
           120,
           564,
           218,
           576,
           582,
           204,
           519,
           484,
           108,
           474,
           294,
           237,
           487,
           256,
           354,
           23,
           383,
           432,
           586,
           532,
           432,
           508,
           235,
           524,
           519,
           442,
           138,
           9,
           72,
           631,
           402,
           80,
           441,
           385,
           651,
           424,
           200,
           552,
           141,
           550,
           179,
           543
          ],
          [
           624,
           507,
           173,
           228,
           365,
           598,
           323,
           548,
           489,
           157,
           516,
           746,
           464,
           410,
           779,
           357,
           436,
           501,
           399,
           748,
           268,
           594,
           317,
           529,
           184,
           113,
           255,
           25,
           509,
           88,
           281,
           332,
           492,
           326,
           394,
           510,
           559,
           408,
           466,
           449,
           190,
           522,
           288,
           118,
           671,
           580,
           375,
           480,
           560,
           474
          ],
          [
           677,
           554,
           409,
           90,
           593,
           691,
           374,
           436,
           467,
           387,
           340,
           847,
           643,
           434,
           846,
           523,
           405,
           632,
           200,
           648,
           451,
           610,
           104,
           440,
           311,
           132,
           476,
           237,
           622,
           309,
           222,
           124,
           642,
           479,
           293,
           425,
           498,
           614,
           576,
           401,
           361,
           612,
           519,
           132,
           626,
           720,
           297,
           644,
           551,
           637
          ],
          [
           382,
           354,
           782,
           540,
           850,
           490,
           422,
           186,
           240,
           742,
           340,
           587,
           700,
           345,
           493,
           622,
           274,
           567,
           458,
           61,
           646,
           276,
           533,
           180,
           562,
           625,
           751,
           724,
           518,
           693,
           428,
           702,
           620,
           586,
           328,
           197,
           147,
           770,
           501,
           256,
           614,
           460,
           817,
           617,
           113,
           627,
           334,
           659,
           223,
           652
          ],
          [
           101,
           162,
           566,
           607,
           519,
           14,
           320,
           505,
           316,
           535,
           642,
           155,
           295,
           276,
           180,
           296,
           356,
           148,
           664,
           538,
           378,
           203,
           673,
           453,
           423,
           607,
           477,
           630,
           108,
           539,
           485,
           816,
           200,
           299,
           492,
           443,
           392,
           401,
           142,
           380,
           422,
           83,
           528,
           600,
           368,
           161,
           460,
           244,
           269,
           242
          ],
          [
           567,
           462,
           603,
           240,
           746,
           628,
           357,
           183,
           317,
           569,
           54,
           774,
           701,
           355,
           730,
           585,
           268,
           626,
           96,
           381,
           553,
           467,
           187,
           213,
           412,
           354,
           626,
           474,
           595,
           496,
           213,
           345,
           660,
           537,
           137,
           209,
           289,
           718,
           555,
           245,
           478,
           559,
           686,
           347,
           411,
           713,
           172,
           681,
           392,
           673
          ]
         ]
        }
       ],
       "layout": {
        "annotations": [
         {
          "font": {
           "color": "black",
           "size": 14
          },
          "showarrow": false,
          "text": "C0 demand 49",
          "textangle": -90,
          "x": 0,
          "y": -2.5
         },
         {
          "font": {
           "color": "black",
           "size": 14
          },
          "showarrow": false,
          "text": "C1 demand 29",
          "textangle": -90,
          "x": 1,
          "y": -2.5
         },
         {
          "font": {
           "color": "black",
           "size": 14
          },
          "showarrow": false,
          "text": "C2 demand 23",
          "textangle": -90,
          "x": 2,
          "y": -2.5
         },
         {
          "font": {
           "color": "black",
           "size": 14
          },
          "showarrow": false,
          "text": "C3 demand 40",
          "textangle": -90,
          "x": 3,
          "y": -2.5
         },
         {
          "font": {
           "color": "black",
           "size": 14
          },
          "showarrow": false,
          "text": "C4 demand 18",
          "textangle": -90,
          "x": 4,
          "y": -2.5
         },
         {
          "font": {
           "color": "black",
           "size": 14
          },
          "showarrow": false,
          "text": "C5 demand 17",
          "textangle": -90,
          "x": 5,
          "y": -2.5
         },
         {
          "font": {
           "color": "black",
           "size": 14
          },
          "showarrow": false,
          "text": "C6 demand 48",
          "textangle": -90,
          "x": 6,
          "y": -2.5
         },
         {
          "font": {
           "color": "black",
           "size": 14
          },
          "showarrow": false,
          "text": "C7 demand 13",
          "textangle": -90,
          "x": 7,
          "y": -2.5
         },
         {
          "font": {
           "color": "black",
           "size": 14
          },
          "showarrow": false,
          "text": "C8 demand 15",
          "textangle": -90,
          "x": 8,
          "y": -2.5
         },
         {
          "font": {
           "color": "black",
           "size": 14
          },
          "showarrow": false,
          "text": "C9 demand 31",
          "textangle": -90,
          "x": 9,
          "y": -2.5
         },
         {
          "font": {
           "color": "black",
           "size": 14
          },
          "showarrow": false,
          "text": "C10 demand 16",
          "textangle": -90,
          "x": 10,
          "y": -2.5
         },
         {
          "font": {
           "color": "black",
           "size": 14
          },
          "showarrow": false,
          "text": "C11 demand 31",
          "textangle": -90,
          "x": 11,
          "y": -2.5
         },
         {
          "font": {
           "color": "black",
           "size": 14
          },
          "showarrow": false,
          "text": "C12 demand 14",
          "textangle": -90,
          "x": 12,
          "y": -2.5
         },
         {
          "font": {
           "color": "black",
           "size": 14
          },
          "showarrow": false,
          "text": "C13 demand 44",
          "textangle": -90,
          "x": 13,
          "y": -2.5
         },
         {
          "font": {
           "color": "black",
           "size": 14
          },
          "showarrow": false,
          "text": "C14 demand 23",
          "textangle": -90,
          "x": 14,
          "y": -2.5
         },
         {
          "font": {
           "color": "black",
           "size": 14
          },
          "showarrow": false,
          "text": "C15 demand 39",
          "textangle": -90,
          "x": 15,
          "y": -2.5
         },
         {
          "font": {
           "color": "black",
           "size": 14
          },
          "showarrow": false,
          "text": "C16 demand 33",
          "textangle": -90,
          "x": 16,
          "y": -2.5
         },
         {
          "font": {
           "color": "black",
           "size": 14
          },
          "showarrow": false,
          "text": "C17 demand 45",
          "textangle": -90,
          "x": 17,
          "y": -2.5
         },
         {
          "font": {
           "color": "black",
           "size": 14
          },
          "showarrow": false,
          "text": "C18 demand 40",
          "textangle": -90,
          "x": 18,
          "y": -2.5
         },
         {
          "font": {
           "color": "black",
           "size": 14
          },
          "showarrow": false,
          "text": "C19 demand 43",
          "textangle": -90,
          "x": 19,
          "y": -2.5
         },
         {
          "font": {
           "color": "black",
           "size": 14
          },
          "showarrow": false,
          "text": "C20 demand 38",
          "textangle": -90,
          "x": 20,
          "y": -2.5
         },
         {
          "font": {
           "color": "black",
           "size": 14
          },
          "showarrow": false,
          "text": "C21 demand 26",
          "textangle": -90,
          "x": 21,
          "y": -2.5
         },
         {
          "font": {
           "color": "black",
           "size": 14
          },
          "showarrow": false,
          "text": "C22 demand 47",
          "textangle": -90,
          "x": 22,
          "y": -2.5
         },
         {
          "font": {
           "color": "black",
           "size": 14
          },
          "showarrow": false,
          "text": "C23 demand 34",
          "textangle": -90,
          "x": 23,
          "y": -2.5
         },
         {
          "font": {
           "color": "black",
           "size": 14
          },
          "showarrow": false,
          "text": "C24 demand 24",
          "textangle": -90,
          "x": 24,
          "y": -2.5
         },
         {
          "font": {
           "color": "black",
           "size": 14
          },
          "showarrow": false,
          "text": "C25 demand 32",
          "textangle": -90,
          "x": 25,
          "y": -2.5
         },
         {
          "font": {
           "color": "black",
           "size": 14
          },
          "showarrow": false,
          "text": "C26 demand 28",
          "textangle": -90,
          "x": 26,
          "y": -2.5
         },
         {
          "font": {
           "color": "black",
           "size": 14
          },
          "showarrow": false,
          "text": "C27 demand 26",
          "textangle": -90,
          "x": 27,
          "y": -2.5
         },
         {
          "font": {
           "color": "black",
           "size": 14
          },
          "showarrow": false,
          "text": "C28 demand 20",
          "textangle": -90,
          "x": 28,
          "y": -2.5
         },
         {
          "font": {
           "color": "black",
           "size": 14
          },
          "showarrow": false,
          "text": "C29 demand 13",
          "textangle": -90,
          "x": 29,
          "y": -2.5
         },
         {
          "font": {
           "color": "black",
           "size": 14
          },
          "showarrow": false,
          "text": "C30 demand 27",
          "textangle": -90,
          "x": 30,
          "y": -2.5
         },
         {
          "font": {
           "color": "black",
           "size": 14
          },
          "showarrow": false,
          "text": "C31 demand 22",
          "textangle": -90,
          "x": 31,
          "y": -2.5
         },
         {
          "font": {
           "color": "black",
           "size": 14
          },
          "showarrow": false,
          "text": "C32 demand 14",
          "textangle": -90,
          "x": 32,
          "y": -2.5
         },
         {
          "font": {
           "color": "black",
           "size": 14
          },
          "showarrow": false,
          "text": "C33 demand 42",
          "textangle": -90,
          "x": 33,
          "y": -2.5
         },
         {
          "font": {
           "color": "black",
           "size": 14
          },
          "showarrow": false,
          "text": "C34 demand 31",
          "textangle": -90,
          "x": 34,
          "y": -2.5
         },
         {
          "font": {
           "color": "black",
           "size": 14
          },
          "showarrow": false,
          "text": "C35 demand 37",
          "textangle": -90,
          "x": 35,
          "y": -2.5
         },
         {
          "font": {
           "color": "black",
           "size": 14
          },
          "showarrow": false,
          "text": "C36 demand 45",
          "textangle": -90,
          "x": 36,
          "y": -2.5
         },
         {
          "font": {
           "color": "black",
           "size": 14
          },
          "showarrow": false,
          "text": "C37 demand 20",
          "textangle": -90,
          "x": 37,
          "y": -2.5
         },
         {
          "font": {
           "color": "black",
           "size": 14
          },
          "showarrow": false,
          "text": "C38 demand 38",
          "textangle": -90,
          "x": 38,
          "y": -2.5
         },
         {
          "font": {
           "color": "black",
           "size": 14
          },
          "showarrow": false,
          "text": "C39 demand 21",
          "textangle": -90,
          "x": 39,
          "y": -2.5
         },
         {
          "font": {
           "color": "black",
           "size": 14
          },
          "showarrow": false,
          "text": "C40 demand 25",
          "textangle": -90,
          "x": 40,
          "y": -2.5
         },
         {
          "font": {
           "color": "black",
           "size": 14
          },
          "showarrow": false,
          "text": "C41 demand 13",
          "textangle": -90,
          "x": 41,
          "y": -2.5
         },
         {
          "font": {
           "color": "black",
           "size": 14
          },
          "showarrow": false,
          "text": "C42 demand 19",
          "textangle": -90,
          "x": 42,
          "y": -2.5
         },
         {
          "font": {
           "color": "black",
           "size": 14
          },
          "showarrow": false,
          "text": "C43 demand 42",
          "textangle": -90,
          "x": 43,
          "y": -2.5
         },
         {
          "font": {
           "color": "black",
           "size": 14
          },
          "showarrow": false,
          "text": "C44 demand 10",
          "textangle": -90,
          "x": 44,
          "y": -2.5
         },
         {
          "font": {
           "color": "black",
           "size": 14
          },
          "showarrow": false,
          "text": "C45 demand 21",
          "textangle": -90,
          "x": 45,
          "y": -2.5
         },
         {
          "font": {
           "color": "black",
           "size": 14
          },
          "showarrow": false,
          "text": "C46 demand 37",
          "textangle": -90,
          "x": 46,
          "y": -2.5
         },
         {
          "font": {
           "color": "black",
           "size": 14
          },
          "showarrow": false,
          "text": "C47 demand 27",
          "textangle": -90,
          "x": 47,
          "y": -2.5
         },
         {
          "font": {
           "color": "black",
           "size": 14
          },
          "showarrow": false,
          "text": "C48 demand 17",
          "textangle": -90,
          "x": 48,
          "y": -2.5
         },
         {
          "font": {
           "color": "black",
           "size": 14
          },
          "showarrow": false,
          "text": "C49 demand 49",
          "textangle": -90,
          "x": 49,
          "y": -2.5
         },
         {
          "font": {
           "color": "black",
           "size": 14
          },
          "showarrow": false,
          "text": "F0 opening cost 366",
          "textangle": 0,
          "x": -2.5,
          "y": 0
         },
         {
          "font": {
           "color": "black",
           "size": 14
          },
          "showarrow": false,
          "text": "F1 opening cost 314",
          "textangle": 0,
          "x": -2.5,
          "y": 1
         },
         {
          "font": {
           "color": "black",
           "size": 14
          },
          "showarrow": false,
          "text": "F2 opening cost 504",
          "textangle": 0,
          "x": -2.5,
          "y": 2
         },
         {
          "font": {
           "color": "black",
           "size": 14
          },
          "showarrow": false,
          "text": "F3 opening cost 504",
          "textangle": 0,
          "x": -2.5,
          "y": 3
         },
         {
          "font": {
           "color": "black",
           "size": 14
          },
          "showarrow": false,
          "text": "F4 opening cost 580",
          "textangle": 0,
          "x": -2.5,
          "y": 4
         },
         {
          "font": {
           "color": "grey",
           "size": 14
          },
          "showarrow": false,
          "text": "F5 opening cost 415",
          "textangle": 0,
          "x": -2.5,
          "y": 5
         },
         {
          "font": {
           "color": "black",
           "size": 14
          },
          "showarrow": false,
          "text": "F6 opening cost 456",
          "textangle": 0,
          "x": -2.5,
          "y": 6
         },
         {
          "font": {
           "color": "grey",
           "size": 14
          },
          "showarrow": false,
          "text": "F7 opening cost 549",
          "textangle": 0,
          "x": -2.5,
          "y": 7
         },
         {
          "font": {
           "color": "black",
           "size": 14
          },
          "showarrow": false,
          "text": "F8 opening cost 310",
          "textangle": 0,
          "x": -2.5,
          "y": 8
         },
         {
          "font": {
           "color": "grey",
           "size": 14
          },
          "showarrow": false,
          "text": "F9 opening cost 316",
          "textangle": 0,
          "x": -2.5,
          "y": 9
         },
         {
          "font": {
           "color": "black",
           "size": 14
          },
          "showarrow": false,
          "text": "Capacity used: 245/258",
          "textangle": 0,
          "x": 52.5,
          "y": 0
         },
         {
          "font": {
           "color": "black",
           "size": 14
          },
          "showarrow": false,
          "text": "Capacity used: 114/128",
          "textangle": 0,
          "x": 52.5,
          "y": 1
         },
         {
          "font": {
           "color": "black",
           "size": 14
          },
          "showarrow": false,
          "text": "Capacity used: 240/296",
          "textangle": 0,
          "x": 52.5,
          "y": 2
         },
         {
          "font": {
           "color": "black",
           "size": 14
          },
          "showarrow": false,
          "text": "Capacity used: 196/225",
          "textangle": 0,
          "x": 52.5,
          "y": 3
         },
         {
          "font": {
           "color": "black",
           "size": 14
          },
          "showarrow": false,
          "text": "Capacity used: 310/310",
          "textangle": 0,
          "x": 52.5,
          "y": 4
         },
         {
          "font": {
           "color": "grey",
           "size": 14
          },
          "showarrow": false,
          "text": "Capacity used: 0/373",
          "textangle": 0,
          "x": 52.5,
          "y": 5
         },
         {
          "font": {
           "color": "black",
           "size": 14
          },
          "showarrow": false,
          "text": "Capacity used: 249/329",
          "textangle": 0,
          "x": 52.5,
          "y": 6
         },
         {
          "font": {
           "color": "grey",
           "size": 14
          },
          "showarrow": false,
          "text": "Capacity used: 0/179",
          "textangle": 0,
          "x": 52.5,
          "y": 7
         },
         {
          "font": {
           "color": "black",
           "size": 14
          },
          "showarrow": false,
          "text": "Capacity used: 102/114",
          "textangle": 0,
          "x": 52.5,
          "y": 8
         },
         {
          "font": {
           "color": "grey",
           "size": 14
          },
          "showarrow": false,
          "text": "Capacity used: 0/321",
          "textangle": 0,
          "x": 52.5,
          "y": 9
         }
        ],
        "height": 700,
        "margin": {
         "b": 0,
         "l": 0,
         "r": 0,
         "t": 0
        },
        "showlegend": false,
        "template": {
         "data": {
          "bar": [
           {
            "error_x": {
             "color": "#2a3f5f"
            },
            "error_y": {
             "color": "#2a3f5f"
            },
            "marker": {
             "line": {
              "color": "#E5ECF6",
              "width": 0.5
             },
             "pattern": {
              "fillmode": "overlay",
              "size": 10,
              "solidity": 0.2
             }
            },
            "type": "bar"
           }
          ],
          "barpolar": [
           {
            "marker": {
             "line": {
              "color": "#E5ECF6",
              "width": 0.5
             },
             "pattern": {
              "fillmode": "overlay",
              "size": 10,
              "solidity": 0.2
             }
            },
            "type": "barpolar"
           }
          ],
          "carpet": [
           {
            "aaxis": {
             "endlinecolor": "#2a3f5f",
             "gridcolor": "white",
             "linecolor": "white",
             "minorgridcolor": "white",
             "startlinecolor": "#2a3f5f"
            },
            "baxis": {
             "endlinecolor": "#2a3f5f",
             "gridcolor": "white",
             "linecolor": "white",
             "minorgridcolor": "white",
             "startlinecolor": "#2a3f5f"
            },
            "type": "carpet"
           }
          ],
          "choropleth": [
           {
            "colorbar": {
             "outlinewidth": 0,
             "ticks": ""
            },
            "type": "choropleth"
           }
          ],
          "contour": [
           {
            "colorbar": {
             "outlinewidth": 0,
             "ticks": ""
            },
            "colorscale": [
             [
              0,
              "#0d0887"
             ],
             [
              0.1111111111111111,
              "#46039f"
             ],
             [
              0.2222222222222222,
              "#7201a8"
             ],
             [
              0.3333333333333333,
              "#9c179e"
             ],
             [
              0.4444444444444444,
              "#bd3786"
             ],
             [
              0.5555555555555556,
              "#d8576b"
             ],
             [
              0.6666666666666666,
              "#ed7953"
             ],
             [
              0.7777777777777778,
              "#fb9f3a"
             ],
             [
              0.8888888888888888,
              "#fdca26"
             ],
             [
              1,
              "#f0f921"
             ]
            ],
            "type": "contour"
           }
          ],
          "contourcarpet": [
           {
            "colorbar": {
             "outlinewidth": 0,
             "ticks": ""
            },
            "type": "contourcarpet"
           }
          ],
          "heatmap": [
           {
            "colorbar": {
             "outlinewidth": 0,
             "ticks": ""
            },
            "colorscale": [
             [
              0,
              "#0d0887"
             ],
             [
              0.1111111111111111,
              "#46039f"
             ],
             [
              0.2222222222222222,
              "#7201a8"
             ],
             [
              0.3333333333333333,
              "#9c179e"
             ],
             [
              0.4444444444444444,
              "#bd3786"
             ],
             [
              0.5555555555555556,
              "#d8576b"
             ],
             [
              0.6666666666666666,
              "#ed7953"
             ],
             [
              0.7777777777777778,
              "#fb9f3a"
             ],
             [
              0.8888888888888888,
              "#fdca26"
             ],
             [
              1,
              "#f0f921"
             ]
            ],
            "type": "heatmap"
           }
          ],
          "histogram": [
           {
            "marker": {
             "pattern": {
              "fillmode": "overlay",
              "size": 10,
              "solidity": 0.2
             }
            },
            "type": "histogram"
           }
          ],
          "histogram2d": [
           {
            "colorbar": {
             "outlinewidth": 0,
             "ticks": ""
            },
            "colorscale": [
             [
              0,
              "#0d0887"
             ],
             [
              0.1111111111111111,
              "#46039f"
             ],
             [
              0.2222222222222222,
              "#7201a8"
             ],
             [
              0.3333333333333333,
              "#9c179e"
             ],
             [
              0.4444444444444444,
              "#bd3786"
             ],
             [
              0.5555555555555556,
              "#d8576b"
             ],
             [
              0.6666666666666666,
              "#ed7953"
             ],
             [
              0.7777777777777778,
              "#fb9f3a"
             ],
             [
              0.8888888888888888,
              "#fdca26"
             ],
             [
              1,
              "#f0f921"
             ]
            ],
            "type": "histogram2d"
           }
          ],
          "histogram2dcontour": [
           {
            "colorbar": {
             "outlinewidth": 0,
             "ticks": ""
            },
            "colorscale": [
             [
              0,
              "#0d0887"
             ],
             [
              0.1111111111111111,
              "#46039f"
             ],
             [
              0.2222222222222222,
              "#7201a8"
             ],
             [
              0.3333333333333333,
              "#9c179e"
             ],
             [
              0.4444444444444444,
              "#bd3786"
             ],
             [
              0.5555555555555556,
              "#d8576b"
             ],
             [
              0.6666666666666666,
              "#ed7953"
             ],
             [
              0.7777777777777778,
              "#fb9f3a"
             ],
             [
              0.8888888888888888,
              "#fdca26"
             ],
             [
              1,
              "#f0f921"
             ]
            ],
            "type": "histogram2dcontour"
           }
          ],
          "mesh3d": [
           {
            "colorbar": {
             "outlinewidth": 0,
             "ticks": ""
            },
            "type": "mesh3d"
           }
          ],
          "parcoords": [
           {
            "line": {
             "colorbar": {
              "outlinewidth": 0,
              "ticks": ""
             }
            },
            "type": "parcoords"
           }
          ],
          "pie": [
           {
            "automargin": true,
            "type": "pie"
           }
          ],
          "scatter": [
           {
            "fillpattern": {
             "fillmode": "overlay",
             "size": 10,
             "solidity": 0.2
            },
            "type": "scatter"
           }
          ],
          "scatter3d": [
           {
            "line": {
             "colorbar": {
              "outlinewidth": 0,
              "ticks": ""
             }
            },
            "marker": {
             "colorbar": {
              "outlinewidth": 0,
              "ticks": ""
             }
            },
            "type": "scatter3d"
           }
          ],
          "scattercarpet": [
           {
            "marker": {
             "colorbar": {
              "outlinewidth": 0,
              "ticks": ""
             }
            },
            "type": "scattercarpet"
           }
          ],
          "scattergeo": [
           {
            "marker": {
             "colorbar": {
              "outlinewidth": 0,
              "ticks": ""
             }
            },
            "type": "scattergeo"
           }
          ],
          "scattergl": [
           {
            "marker": {
             "colorbar": {
              "outlinewidth": 0,
              "ticks": ""
             }
            },
            "type": "scattergl"
           }
          ],
          "scattermap": [
           {
            "marker": {
             "colorbar": {
              "outlinewidth": 0,
              "ticks": ""
             }
            },
            "type": "scattermap"
           }
          ],
          "scattermapbox": [
           {
            "marker": {
             "colorbar": {
              "outlinewidth": 0,
              "ticks": ""
             }
            },
            "type": "scattermapbox"
           }
          ],
          "scatterpolar": [
           {
            "marker": {
             "colorbar": {
              "outlinewidth": 0,
              "ticks": ""
             }
            },
            "type": "scatterpolar"
           }
          ],
          "scatterpolargl": [
           {
            "marker": {
             "colorbar": {
              "outlinewidth": 0,
              "ticks": ""
             }
            },
            "type": "scatterpolargl"
           }
          ],
          "scatterternary": [
           {
            "marker": {
             "colorbar": {
              "outlinewidth": 0,
              "ticks": ""
             }
            },
            "type": "scatterternary"
           }
          ],
          "surface": [
           {
            "colorbar": {
             "outlinewidth": 0,
             "ticks": ""
            },
            "colorscale": [
             [
              0,
              "#0d0887"
             ],
             [
              0.1111111111111111,
              "#46039f"
             ],
             [
              0.2222222222222222,
              "#7201a8"
             ],
             [
              0.3333333333333333,
              "#9c179e"
             ],
             [
              0.4444444444444444,
              "#bd3786"
             ],
             [
              0.5555555555555556,
              "#d8576b"
             ],
             [
              0.6666666666666666,
              "#ed7953"
             ],
             [
              0.7777777777777778,
              "#fb9f3a"
             ],
             [
              0.8888888888888888,
              "#fdca26"
             ],
             [
              1,
              "#f0f921"
             ]
            ],
            "type": "surface"
           }
          ],
          "table": [
           {
            "cells": {
             "fill": {
              "color": "#EBF0F8"
             },
             "line": {
              "color": "white"
             }
            },
            "header": {
             "fill": {
              "color": "#C8D4E3"
             },
             "line": {
              "color": "white"
             }
            },
            "type": "table"
           }
          ]
         },
         "layout": {
          "annotationdefaults": {
           "arrowcolor": "#2a3f5f",
           "arrowhead": 0,
           "arrowwidth": 1
          },
          "autotypenumbers": "strict",
          "coloraxis": {
           "colorbar": {
            "outlinewidth": 0,
            "ticks": ""
           }
          },
          "colorscale": {
           "diverging": [
            [
             0,
             "#8e0152"
            ],
            [
             0.1,
             "#c51b7d"
            ],
            [
             0.2,
             "#de77ae"
            ],
            [
             0.3,
             "#f1b6da"
            ],
            [
             0.4,
             "#fde0ef"
            ],
            [
             0.5,
             "#f7f7f7"
            ],
            [
             0.6,
             "#e6f5d0"
            ],
            [
             0.7,
             "#b8e186"
            ],
            [
             0.8,
             "#7fbc41"
            ],
            [
             0.9,
             "#4d9221"
            ],
            [
             1,
             "#276419"
            ]
           ],
           "sequential": [
            [
             0,
             "#0d0887"
            ],
            [
             0.1111111111111111,
             "#46039f"
            ],
            [
             0.2222222222222222,
             "#7201a8"
            ],
            [
             0.3333333333333333,
             "#9c179e"
            ],
            [
             0.4444444444444444,
             "#bd3786"
            ],
            [
             0.5555555555555556,
             "#d8576b"
            ],
            [
             0.6666666666666666,
             "#ed7953"
            ],
            [
             0.7777777777777778,
             "#fb9f3a"
            ],
            [
             0.8888888888888888,
             "#fdca26"
            ],
            [
             1,
             "#f0f921"
            ]
           ],
           "sequentialminus": [
            [
             0,
             "#0d0887"
            ],
            [
             0.1111111111111111,
             "#46039f"
            ],
            [
             0.2222222222222222,
             "#7201a8"
            ],
            [
             0.3333333333333333,
             "#9c179e"
            ],
            [
             0.4444444444444444,
             "#bd3786"
            ],
            [
             0.5555555555555556,
             "#d8576b"
            ],
            [
             0.6666666666666666,
             "#ed7953"
            ],
            [
             0.7777777777777778,
             "#fb9f3a"
            ],
            [
             0.8888888888888888,
             "#fdca26"
            ],
            [
             1,
             "#f0f921"
            ]
           ]
          },
          "colorway": [
           "#636efa",
           "#EF553B",
           "#00cc96",
           "#ab63fa",
           "#FFA15A",
           "#19d3f3",
           "#FF6692",
           "#B6E880",
           "#FF97FF",
           "#FECB52"
          ],
          "font": {
           "color": "#2a3f5f"
          },
          "geo": {
           "bgcolor": "white",
           "lakecolor": "white",
           "landcolor": "#E5ECF6",
           "showlakes": true,
           "showland": true,
           "subunitcolor": "white"
          },
          "hoverlabel": {
           "align": "left"
          },
          "hovermode": "closest",
          "mapbox": {
           "style": "light"
          },
          "paper_bgcolor": "white",
          "plot_bgcolor": "#E5ECF6",
          "polar": {
           "angularaxis": {
            "gridcolor": "white",
            "linecolor": "white",
            "ticks": ""
           },
           "bgcolor": "#E5ECF6",
           "radialaxis": {
            "gridcolor": "white",
            "linecolor": "white",
            "ticks": ""
           }
          },
          "scene": {
           "xaxis": {
            "backgroundcolor": "#E5ECF6",
            "gridcolor": "white",
            "gridwidth": 2,
            "linecolor": "white",
            "showbackground": true,
            "ticks": "",
            "zerolinecolor": "white"
           },
           "yaxis": {
            "backgroundcolor": "#E5ECF6",
            "gridcolor": "white",
            "gridwidth": 2,
            "linecolor": "white",
            "showbackground": true,
            "ticks": "",
            "zerolinecolor": "white"
           },
           "zaxis": {
            "backgroundcolor": "#E5ECF6",
            "gridcolor": "white",
            "gridwidth": 2,
            "linecolor": "white",
            "showbackground": true,
            "ticks": "",
            "zerolinecolor": "white"
           }
          },
          "shapedefaults": {
           "line": {
            "color": "#2a3f5f"
           }
          },
          "ternary": {
           "aaxis": {
            "gridcolor": "white",
            "linecolor": "white",
            "ticks": ""
           },
           "baxis": {
            "gridcolor": "white",
            "linecolor": "white",
            "ticks": ""
           },
           "bgcolor": "#E5ECF6",
           "caxis": {
            "gridcolor": "white",
            "linecolor": "white",
            "ticks": ""
           }
          },
          "title": {
           "x": 0.05
          },
          "xaxis": {
           "automargin": true,
           "gridcolor": "white",
           "linecolor": "white",
           "ticks": "",
           "title": {
            "standoff": 15
           },
           "zerolinecolor": "white",
           "zerolinewidth": 2
          },
          "yaxis": {
           "automargin": true,
           "gridcolor": "white",
           "linecolor": "white",
           "ticks": "",
           "title": {
            "standoff": 15
           },
           "zerolinecolor": "white",
           "zerolinewidth": 2
          }
         }
        },
        "width": 3000,
        "xaxis": {
         "range": [
          -5.5,
          55.5
         ],
         "showgrid": false,
         "showticklabels": false,
         "ticks": ""
        },
        "yaxis": {
         "range": [
          -5.5,
          10.5
         ],
         "showgrid": false,
         "showticklabels": false,
         "ticks": ""
        }
       }
      },
      "image/png": "[encoded data removed]"
     },
     "metadata": {},
     "output_type": "display_data"
    }
   ],
   "source": [
    "from visualization import visualize_solution\n",
    "\n",
    "visualize_solution('example_instance.json','example_solution.json')"
   ]
  },
  {
   "cell_type": "code",
   "execution_count": null,
   "id": "b1280683-4490-4118-9e13-4c42ad6567ab",
   "metadata": {},
   "outputs": [],
   "source": []
  },
  {
   "cell_type": "code",
   "execution_count": null,
   "id": "31800886-d4e6-4d1b-842c-da001fda2b69",
   "metadata": {},
   "outputs": [],
   "source": []
  }
 ],
 "metadata": {
  "kernelspec": {
   "display_name": "Python 3 (ipykernel)",
   "language": "python",
   "name": "python3"
  },
  "language_info": {
   "codemirror_mode": {
    "name": "ipython",
    "version": 3
   },
   "file_extension": ".py",
   "mimetype": "text/x-python",
   "name": "python",
   "nbconvert_exporter": "python",
   "pygments_lexer": "ipython3",
   "version": "3.10.12"
  }
 },
 "nbformat": 4,
 "nbformat_minor": 5
}
